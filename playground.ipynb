{
 "cells": [
  {
   "cell_type": "code",
   "execution_count": 1,
   "metadata": {},
   "outputs": [
    {
     "name": "stderr",
     "output_type": "stream",
     "text": [
      "Triples: 100%|██████████| 316114/316114 [00:02<00:00, 144772.62it/s]\n"
     ]
    }
   ],
   "source": [
    "from libs import embeddings\n",
    "from libs.graph import KnowledgeGraph\n",
    "\n",
    "kg = KnowledgeGraph.from_dir(\"toy\")\n",
    "#E = embeddings.load(\"toy\")"
   ]
  },
  {
   "cell_type": "code",
   "execution_count": 2,
   "metadata": {},
   "outputs": [
    {
     "name": "stdout",
     "output_type": "stream",
     "text": [
      "dbr:Anthony_Warde\n",
      "\t dbo:birthDate xsd:date\n",
      "\t rdf:type\n",
      "\t\t dbo:Agent\n",
      "\t\t dbo:Person\n",
      "\t dbo:activeYearsStartYear xsd:gYear\n",
      "\t dbo:activeYearsEndYear xsd:gYear\n",
      "\t dbo:imdbId <STRING>\n",
      "\t dbo:birthPlace dbr:Pennsylvania\n",
      "\t foaf:givenName <LABEL:en>\n",
      "\t dbo:birthYear xsd:gYear\n",
      "\t dbo:occupation dbr:Film\n",
      "\t dbo:deathDate xsd:date\n",
      "\t dbo:deathPlace\n",
      "\t\t dbr:California\n",
      "\t\t dbr:Hollywood\n",
      "\t foaf:surname <LABEL:en>\n",
      "\t foaf:gender <LABEL:en>\n",
      "\t dbo:deathYear xsd:gYear\n"
     ]
    }
   ],
   "source": [
    "ename = \"dbr:Anthony_Warde\"\n",
    "eid = kg.ent.to_id(ename)\n",
    "\n",
    "kg.print_relations(ename)"
   ]
  },
  {
   "cell_type": "code",
   "execution_count": 3,
   "metadata": {},
   "outputs": [
    {
     "name": "stdout",
     "output_type": "stream",
     "text": [
      "Sampled 10 instances out of 47694\n",
      "dbr:Meco,_Spain\n",
      "dbr:Stephen_King\n",
      "dbr:FC_Red_Bull_Salzburg\n",
      "dbr:Narabi\n",
      "dbr:Archibald_Montgomerie,_11th_Earl_of_Eglinton\n",
      "dbr:Koutiala_Cercle\n",
      "dbr:Nouri_al-Maliki\n",
      "dbr:Ballinger,_Texas\n",
      "dbr:Mountain_National_Bank\n",
      "dbr:Dahme,_Schleswig-Holstein\n"
     ]
    }
   ],
   "source": [
    "from importlib import reload\n",
    "import libs.sampling.instance_sampling as samp\n",
    "reload(samp)\n",
    "\n",
    "samp.set_graph(kg)\n",
    "\n",
    "instances, n = samp.sample_any(10)\n",
    "print(f\"Sampled {len(instances)} instances out of {n}\")\n",
    "print(*map(kg.ent.to_name, instances), sep=\"\\n\")"
   ]
  },
  {
   "cell_type": "code",
   "execution_count": 4,
   "metadata": {},
   "outputs": [
    {
     "name": "stdout",
     "output_type": "stream",
     "text": [
      "Sampled 7 instances out of 7 for axiom '∃dbo:deathPlace.{dbr:California}∧∃dbo:deathYear.⊤'\n",
      "dbr:Ruth_Roland\n",
      "dbr:A._A._Allen\n",
      "dbr:Albert_R._Broccoli\n",
      "dbr:Brad_Renfro\n",
      "dbr:Anthony_Warde\n",
      "dbr:Harvey_Lembeck\n",
      "dbr:Isaac_Newton_Van_Nuys\n"
     ]
    }
   ],
   "source": [
    "# import libs.axiom.atomic as atoms\n",
    "from libs.axiom import Concept, Existential\n",
    "#reload(atoms)\n",
    "reload(samp)\n",
    "#Existential, Concept\n",
    "samp.set_graph(kg)\n",
    "\n",
    "Place = Concept(singleton=\"dbr:California\")\n",
    "a = Existential(\"dbo:deathPlace\", Place)\n",
    "b = Existential(\"dbo:deathYear\", None)\n",
    "\n",
    "instances, n = samp.sample_from(a & b, 10)\n",
    "print(f\"Sampled {len(instances)} instances out of {n} for axiom '{a & b}'\")\n",
    "print(*map(kg.ent.to_name, instances), sep=\"\\n\")"
   ]
  },
  {
   "cell_type": "code",
   "execution_count": 5,
   "metadata": {},
   "outputs": [
    {
     "name": "stdout",
     "output_type": "stream",
     "text": [
      "dbr:California\n",
      "\t rdf:type\n",
      "\t\t dbo:Location\n",
      "\t\t dbo:Place\n",
      "\t\t dbo:Region\n",
      "\t\t dbo:PopulatedPlace\n",
      "\t\t dbo:AdministrativeRegion\n"
     ]
    }
   ],
   "source": [
    "kg.print_relations(\"dbr:California\")"
   ]
  },
  {
   "cell_type": "code",
   "execution_count": 14,
   "metadata": {},
   "outputs": [
    {
     "data": {
      "text/plain": [
       "Concept(foo)"
      ]
     },
     "execution_count": 14,
     "metadata": {},
     "output_type": "execute_result"
    }
   ],
   "source": []
  }
 ],
 "metadata": {
  "kernelspec": {
   "display_name": "Python 3",
   "language": "python",
   "name": "python3"
  },
  "language_info": {
   "codemirror_mode": {
    "name": "ipython",
    "version": 3
   },
   "file_extension": ".py",
   "mimetype": "text/x-python",
   "name": "python",
   "nbconvert_exporter": "python",
   "pygments_lexer": "ipython3",
   "version": "3.6.5"
  }
 },
 "nbformat": 4,
 "nbformat_minor": 2
}
