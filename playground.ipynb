{
 "cells": [
  {
   "cell_type": "code",
   "execution_count": 1,
   "metadata": {},
   "outputs": [
    {
     "name": "stderr",
     "output_type": "stream",
     "text": [
      "Triples: 100%|██████████| 316114/316114 [00:02<00:00, 123138.73it/s]\n"
     ]
    }
   ],
   "source": [
    "from libs import embeddings\n",
    "from libs.graph import KnowledgeGraph\n",
    "\n",
    "kg = KnowledgeGraph.from_dir(\"toy\")\n",
    "#E = embeddings.load(\"toy\")"
   ]
  },
  {
   "cell_type": "code",
   "execution_count": 2,
   "metadata": {},
   "outputs": [
    {
     "name": "stdout",
     "output_type": "stream",
     "text": [
      "dbr:Anthony_Warde\n",
      "\t dbo:birthDate xsd:date\n",
      "\t rdf:type\n",
      "\t\t dbo:Agent\n",
      "\t\t dbo:Person\n",
      "\t dbo:activeYearsStartYear xsd:gYear\n",
      "\t dbo:activeYearsEndYear xsd:gYear\n",
      "\t dbo:imdbId <STRING>\n",
      "\t dbo:birthPlace dbr:Pennsylvania\n",
      "\t foaf:givenName <LABEL:en>\n",
      "\t dbo:birthYear xsd:gYear\n",
      "\t dbo:occupation dbr:Film\n",
      "\t dbo:deathDate xsd:date\n",
      "\t dbo:deathPlace\n",
      "\t\t dbr:California\n",
      "\t\t dbr:Hollywood\n",
      "\t foaf:surname <LABEL:en>\n",
      "\t foaf:gender <LABEL:en>\n",
      "\t dbo:deathYear xsd:gYear\n"
     ]
    }
   ],
   "source": [
    "ename = \"dbr:Anthony_Warde\"\n",
    "eid = kg.ent.to_id(ename)\n",
    "\n",
    "kg.print_relations(ename)"
   ]
  },
  {
   "cell_type": "code",
   "execution_count": 3,
   "metadata": {},
   "outputs": [
    {
     "name": "stdout",
     "output_type": "stream",
     "text": [
      "Sampled 10 instances out of 47694\n",
      "dbr:Kolding\n",
      "dbr:Gmina_Sławno,_Łódź_Voivodeship\n",
      "dbr:Cadiz,_Kentucky\n",
      "dbr:Jafarbay-ye_Jonubi_Rural_District\n",
      "dbr:Colegio_Niño_Jesús_de_Praga\n",
      "dbr:Lev_Kamenev\n",
      "dbr:Andilanatoby\n",
      "dbr:AC_Sparta_Praha_(women)\n",
      "dbr:Whiting,_Vermont\n",
      "dbr:The_Bahamas\n"
     ]
    }
   ],
   "source": [
    "from importlib import reload\n",
    "import libs.sampling.instance_sampling as samp\n",
    "reload(samp)\n",
    "\n",
    "samp.set_graph(kg)\n",
    "\n",
    "instances, n = samp.sample_any(10)\n",
    "print(f\"Sampled {len(instances)} instances out of {n}\")\n",
    "print(*map(kg.ent.to_name, instances), sep=\"\\n\")"
   ]
  },
  {
   "cell_type": "code",
   "execution_count": 4,
   "metadata": {},
   "outputs": [
    {
     "name": "stdout",
     "output_type": "stream",
     "text": [
      "Sampled 7 instances out of 7 for axiom '∃dbo:deathPlace.{dbr:California}∧∃dbo:deathYear.⊤'\n",
      "dbr:Ruth_Roland\n",
      "dbr:A._A._Allen\n",
      "dbr:Albert_R._Broccoli\n",
      "dbr:Brad_Renfro\n",
      "dbr:Anthony_Warde\n",
      "dbr:Harvey_Lembeck\n",
      "dbr:Isaac_Newton_Van_Nuys\n"
     ]
    }
   ],
   "source": [
    "# import libs.axiom.atomic as atoms\n",
    "from libs.axiom import Concept, Existential\n",
    "#reload(atoms)\n",
    "reload(samp)\n",
    "#Existential, Concept\n",
    "samp.set_graph(kg)\n",
    "\n",
    "Place = Concept(singleton=\"dbr:California\")\n",
    "a = Existential(\"dbo:deathPlace\", Place)\n",
    "b = Existential(\"dbo:deathYear\", None)\n",
    "\n",
    "instances, n = samp.sample_from(a & b, 10)\n",
    "print(f\"Sampled {len(instances)} instances out of {n} for axiom '{a & b}'\")\n",
    "print(*map(kg.ent.to_name, instances), sep=\"\\n\")"
   ]
  },
  {
   "cell_type": "code",
   "execution_count": 5,
   "metadata": {},
   "outputs": [
    {
     "name": "stdout",
     "output_type": "stream",
     "text": [
      "dbr:California\n",
      "\t rdf:type\n",
      "\t\t dbo:Location\n",
      "\t\t dbo:Place\n",
      "\t\t dbo:Region\n",
      "\t\t dbo:PopulatedPlace\n",
      "\t\t dbo:AdministrativeRegion\n"
     ]
    }
   ],
   "source": [
    "kg.print_relations(\"dbr:California\")"
   ]
  },
  {
   "cell_type": "code",
   "execution_count": 8,
   "metadata": {},
   "outputs": [],
   "source": [
    "from collections import Counter\n",
    "\n",
    "c = Counter()\n",
    "for h, t in kg.iter_head_tails(kg.rel.to_id(\"rdf:type\"), as_string=True):\n",
    "    c[t] += 1"
   ]
  },
  {
   "cell_type": "code",
   "execution_count": 10,
   "metadata": {},
   "outputs": [
    {
     "name": "stdout",
     "output_type": "stream",
     "text": [
      "Help on method sample_instances in module libs.graph.knowledge_graph:\n",
      "\n",
      "sample_instances(n, from_type='owl:Thing', except_type=None, type_rel='rdf:type', as_string=False, force_size=True, exclude_ids=None) method of libs.graph.knowledge_graph.KnowledgeGraph instance\n",
      "\n"
     ]
    }
   ],
   "source": [
    "help(kg.sample_instances)"
   ]
  },
  {
   "cell_type": "code",
   "execution_count": 12,
   "metadata": {},
   "outputs": [
    {
     "data": {
      "text/plain": [
       "{'dbo:Agent',\n",
       " 'dbo:Athlete',\n",
       " 'dbo:Event',\n",
       " 'dbo:Location',\n",
       " 'dbo:Organisation',\n",
       " 'dbo:Person',\n",
       " 'dbo:PopulatedPlace',\n",
       " 'dbo:Settlement',\n",
       " 'dbo:SocietalEvent',\n",
       " 'dbo:SportsEvent'}"
      ]
     },
     "execution_count": 12,
     "metadata": {},
     "output_type": "execute_result"
    }
   ],
   "source": [
    "classes = {cls for cls, count in c.most_common(n_classes + 1) if cls != \"dbo:Place\"}\n",
    "classes"
   ]
  },
  {
   "cell_type": "code",
   "execution_count": 16,
   "metadata": {},
   "outputs": [
    {
     "name": "stdout",
     "output_type": "stream",
     "text": [
      "               ┌dbo:SocietalEvent\n",
      "     ┌dbo:Event┤\n",
      "     │         └dbo:SportsEvent\n",
      " root┤\n",
      "     │         ┌dbo:Organisation\n",
      "     ├dbo:Agent┤\n",
      "     │         └dbo:Person┐\n",
      "     │                    └dbo:Athlete\n",
      "     └dbo:Location┐\n",
      "                  └dbo:PopulatedPlace┐\n",
      "                                     └dbo:Settlement\n"
     ]
    }
   ],
   "source": [
    "raw_axioms = \"\"\"\n",
    "dbo:Athlete dbo:Person\n",
    "dbo:Person dbo:Agent\n",
    "dbo:Organisation dbo:Agent\n",
    "dbo:SocietalEvent dbo:Event\n",
    "dbo:SportsEvent dbo:Event\n",
    "dbo:Settlement dbo:PopulatedPlace\n",
    "dbo:PopulatedPlace dbo:Location\n",
    "\"\"\"\n",
    "\n",
    "axioms = [tuple(line.split()) for line in raw_axioms.split(\"\\n\")[1:-1]]\n",
    "axioms\n",
    "\n",
    "from libs.taxonomy import Taxonomy\n",
    "\n",
    "\n",
    "T = Taxonomy.from_axioms(axioms, add_root=\"root\")\n",
    "T.print()"
   ]
  },
  {
   "cell_type": "code",
   "execution_count": 9,
   "metadata": {},
   "outputs": [
    {
     "name": "stdout",
     "output_type": "stream",
     "text": [
      "dbo:Location dbo:Agent dbo:Event dbo:SportsEvent dbo:Place dbo:PopulatedPlace dbo:Person dbo:SocietalEvent dbo:Organisation dbo:Settlement\n"
     ]
    }
   ],
   "source": [
    "from sklearn.utils import shuffle\n",
    "from libs.dataset import Dataset\n",
    "\n",
    "n_classes = 10\n",
    "n_entities = 200\n",
    "classes = {cls for cls, count in c.most_common(n_classes + 1) if cls != \"dbo:Place\"}\n",
    "\n",
    "used_indices = set()\n",
    "indices = []\n",
    "labels = []\n",
    "name2cls, cls2name = dict(), dict()\n",
    "\n",
    "for name in classes:\n",
    "    cls = len(name2cls)\n",
    "    name2cls[name] = cls\n",
    "    cls2name[cls] = name\n",
    "    \n",
    "    for instance in kg.sample_instances(n_entities, from_type=name, exclude_ids=used_indices):\n",
    "        used_indices.add(instance)\n",
    "        indices.append(instance)\n",
    "        labels.append(cls)\n",
    "        \n",
    "axioms = {\n",
    "    \"dbo:Athlete\", \"dbo:Person\"\n",
    "}"
   ]
  }
 ],
 "metadata": {
  "kernelspec": {
   "display_name": "Python 3",
   "language": "python",
   "name": "python3"
  },
  "language_info": {
   "codemirror_mode": {
    "name": "ipython",
    "version": 3
   },
   "file_extension": ".py",
   "mimetype": "text/x-python",
   "name": "python",
   "nbconvert_exporter": "python",
   "pygments_lexer": "ipython3",
   "version": "3.6.5"
  }
 },
 "nbformat": 4,
 "nbformat_minor": 2
}
