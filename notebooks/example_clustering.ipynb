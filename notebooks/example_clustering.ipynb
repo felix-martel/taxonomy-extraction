{
 "cells": [
  {
   "cell_type": "code",
   "execution_count": 1,
   "metadata": {},
   "outputs": [
    {
     "name": "stdout",
     "output_type": "stream",
     "text": [
      "Dataset (10 classes, 2000 instances):\n",
      "---\n",
      "dbo:Settlement       200\n",
      "dbo:Location         200\n",
      "dbo:SportsEvent      200\n",
      "dbo:PopulatedPlace   200\n",
      "dbo:Athlete          200\n",
      "...\n"
     ]
    }
   ],
   "source": [
    "from libs.dataset import Dataset\n",
    "\n",
    "data = Dataset.load(\"toy\")\n",
    "\n",
    "print(data.summary())"
   ]
  },
  {
   "cell_type": "code",
   "execution_count": 2,
   "metadata": {},
   "outputs": [
    {
     "name": "stdout",
     "output_type": "stream",
     "text": [
      "Help on function clusterize in module libs.cluster._cluster:\n",
      "\n",
      "clusterize(data:libs.dataset.dataset.Dataset, embeddings:Union[numpy.ndarray, NoneType]=None, **params) -> 'Cluster'\n",
      "    Run the clustering step on a given Dataset, using graph embeddings. If embeddings is set to None (default), the\n",
      "    default embedding model is used, as specified in `libs.embeddings.DEFAULT`. Optional parameters can be passed to\n",
      "    `run_clustering`.\n",
      "    Return a clustering tree (`Cluster`)\n",
      "\n"
     ]
    }
   ],
   "source": [
    "from libs.cluster import clusterize\n",
    "\n",
    "help(clusterize)"
   ]
  },
  {
   "cell_type": "code",
   "execution_count": 3,
   "metadata": {},
   "outputs": [],
   "source": [
    "from libs.cluster import clusterize\n",
    "from libs.embeddings import Toy\n",
    "\n",
    "clu = clusterize(data, Toy)"
   ]
  },
  {
   "cell_type": "code",
   "execution_count": 5,
   "metadata": {},
   "outputs": [
    {
     "data": {
      "text/plain": [
       "200"
      ]
     },
     "execution_count": 5,
     "metadata": {},
     "output_type": "execute_result"
    }
   ],
   "source": [
    "data.class_count[\"dbo:Settlement\"]"
   ]
  },
  {
   "cell_type": "code",
   "execution_count": 6,
   "metadata": {},
   "outputs": [],
   "source": [
    "from libs.metrics import f_score\n",
    "\n",
    "F = clu.get_func_matrix(f_score, class_counts=data.class_count)"
   ]
  },
  {
   "cell_type": "code",
   "execution_count": 7,
   "metadata": {},
   "outputs": [
    {
     "data": {
      "text/plain": [
       "(3999, 10)"
      ]
     },
     "execution_count": 7,
     "metadata": {},
     "output_type": "execute_result"
    }
   ],
   "source": [
    "import libs.extraction as ex\n",
    "\n",
    "pred_axioms = ex.extract_axioms(F, \"proba\", )"
   ]
  }
 ],
 "metadata": {
  "kernelspec": {
   "display_name": "Python 3",
   "language": "python",
   "name": "python3"
  },
  "language_info": {
   "codemirror_mode": {
    "name": "ipython",
    "version": 3
   },
   "file_extension": ".py",
   "mimetype": "text/x-python",
   "name": "python",
   "nbconvert_exporter": "python",
   "pygments_lexer": "ipython3",
   "version": "3.6.5"
  }
 },
 "nbformat": 4,
 "nbformat_minor": 2
}
