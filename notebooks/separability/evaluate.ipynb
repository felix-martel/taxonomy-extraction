{
 "cells": [
  {
   "cell_type": "code",
   "execution_count": 1,
   "metadata": {
    "collapsed": true
   },
   "outputs": [],
   "source": [
    "from functools import partial\n",
    "from warnings import filterwarnings\n",
    "\n",
    "import numpy as np\n",
    "import pandas as pd\n",
    "from tqdm import tqdm\n",
    "\n",
    "import libs.embeddings as embeddings\n",
    "from libs.utils import Timer\n",
    "from libs.graph import KnowledgeGraph\n",
    "from libs.taxonomy import Taxonomy\n",
    "from libs.separability.evaluation import class_distance, evaluate\n",
    "from libs.separability.data import get_centroids\n",
    "\n",
    "\n",
    "kg = KnowledgeGraph.from_dir(\"data/dbpedia\")"
   ]
  },
  {
   "cell_type": "code",
   "execution_count": null,
   "metadata": {},
   "outputs": [],
   "source": [
    "# Load classes to separate\n",
    "\n",
    "fa = \"data/separability/types_A.txt\"\n",
    "fb = \"data/separability/types_B.txt\"\n",
    "missing_ids = \"data/missing_ids.txt\"\n",
    "\n",
    "with open(fa, \"r\") as f:\n",
    "    As = f.read().split()\n",
    "    \n",
    "with open(fb, \"r\") as f:\n",
    "    Bs = f.read().split()\n",
    "    \n",
    "with open(missing_ids, \"r\") as f:\n",
    "    invalid_ids = {int(x) for x in f.read().split()}\n"
   ]
  },
  {
   "cell_type": "code",
   "execution_count": null,
   "metadata": {},
   "outputs": [],
   "source": [
    "# Compute distances between classes\n",
    "\n",
    "T = Taxonomy.load(\"full\")\n",
    "centroids, counts = get_centroids(kg, T)\n",
    "class_distance = partial(class_distance, tax=T, centroids=centroids)\n"
   ]
  },
  {
   "cell_type": "code",
   "execution_count": null,
   "metadata": {},
   "outputs": [],
   "source": [
    "filterwarnings(\"ignore\")  # Ignore ill-defined precision warnings\n",
    "\n",
    "size = 300\n",
    "min_size = 10\n",
    "results = {}\n",
    "verbose = False\n",
    "\n",
    "df = None\n",
    "MODELS = [\"ComplEx\", \"DistMult\", \"RDF2Vec\", \"TransE\", \"TransH\", \"TransD\"]\n",
    "\n",
    "for model in MODELS:\n",
    "    E = embeddings.load(model)\n",
    "    _, dim = E.shape\n",
    "    stop = False\n",
    "    for a in tqdm(As, desc=model):\n",
    "        if a == \"owl:Thing\": \n",
    "            continue\n",
    "        all_ias = kg.sample_instances(size, a, force_size=False, exclude_ids=invalid_ids)\n",
    "        all_na = len(all_ias)\n",
    "        \n",
    "        for b in Bs:\n",
    "            if b == a or b == \"owl:Thing\": \n",
    "                continue\n",
    "            if (b, a) in results: \n",
    "                results[(a,b)] = results[(b, a)]\n",
    "                continue\n",
    "            params = {}\n",
    "            if T[b] < T[a]: \n",
    "                params[\"except_type\"] = a\n",
    "            ias = kg.sample_instances(size, a, force_size=False, except_type=b, exclude_ids=invalid_ids) if T[a] < T[b] \\\n",
    "                else all_ias\n",
    "            ibs = kg.sample_instances(size, b, force_size=False, exclude_ids=invalid_ids, **params)\n",
    "            na, nb = len(ias), len(ibs)\n",
    "            if na < min_size or nb < min_size: \n",
    "                continue\n",
    "            indices = [*ias, *ibs]\n",
    "            y = np.concatenate([np.zeros(na), np.ones(nb)])\n",
    "            X = E[indices]\n",
    "            res = evaluate(X, y)\n",
    "            dist = class_distance(a, b)\n",
    "            \n",
    "            results[(a,b)] = {\"a\": a, \"b\": b, \"ca\": counts[a], \"cb\": counts[b], **dist, **res}\n",
    "                \n",
    "        curr_df = pd.DataFrame(results.values())\n",
    "        curr_df[\"model\"] = model\n",
    "        if df is None:\n",
    "            df = curr_df\n",
    "        else:\n",
    "            df = pd.concat([df, curr_df])\n",
    "        \n",
    "df.to_csv(f\"results/separability/all.csv\")\n",
    "df.head()"
   ]
  }
 ],
 "metadata": {
  "kernelspec": {
   "display_name": "Python 2",
   "language": "python",
   "name": "python2"
  },
  "language_info": {
   "codemirror_mode": {
    "name": "ipython",
    "version": 2
   },
   "file_extension": ".py",
   "mimetype": "text/x-python",
   "name": "python",
   "nbconvert_exporter": "python",
   "pygments_lexer": "ipython2",
   "version": "2.7.6"
  }
 },
 "nbformat": 4,
 "nbformat_minor": 0
}
