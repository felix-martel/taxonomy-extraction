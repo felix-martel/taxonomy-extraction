{
 "cells": [
  {
   "cell_type": "code",
   "execution_count": 1,
   "metadata": {},
   "outputs": [],
   "source": [
    "import os\n",
    "\n",
    "import matplotlib.pyplot as plt\n",
    "import pandas as pd\n",
    "import numpy as np\n",
    "from scipy import stats\n",
    "\n",
    "from libs.utils.data import aggregate, mean_confidence_interval\n",
    "\n",
    "\n",
    "fname = \"results/separability/sep_{}.csv\".format\n",
    "MODELS = [\"ComplEx\", \"DistMult\", \"RDF2Vec\", \"TransE\", \"TransH\", \"TransD\"]\n",
    "\n",
    "def load_df(model):\n",
    "    df = pd.read_csv(fname(model), index_col=0)\n",
    "    return df"
   ]
  },
  {
   "cell_type": "code",
   "execution_count": 6,
   "metadata": {},
   "outputs": [
    {
     "name": "stderr",
     "output_type": "stream",
     "text": [
      "C:\\Users\\felix\\Anaconda3\\lib\\site-packages\\numpy\\core\\_methods.py:217: RuntimeWarning: Degrees of freedom <= 0 for slice\n  keepdims=keepdims)\nC:\\Users\\felix\\Anaconda3\\lib\\site-packages\\numpy\\core\\_methods.py:209: RuntimeWarning: invalid value encountered in double_scalars\n  ret = ret.dtype.type(ret / rcount)\n"
     ]
    }
   ],
   "source": [
    "linestyles = [\"solid\", \"dashed\", \"dotted\", \"dashdot\",  (0, (5, 10)), (0, (5, 1))]\n",
    "markers = [\"o\", \"v\", \"p\", \"P\", \"^\", \"<\"]\n",
    "style = [dict(linestyle=ls, marker=mk, linewidth=1) for ls, mk in zip(linestyles, markers)]\n",
    "\n",
    "plt.rc(\"ps\", fonttype=42)\n",
    "plt.rc(\"pdf\", fonttype=42)\n",
    "\n",
    "plt.subplots_adjust(top=0.98, right=0.99, left=0.15, bottom=0.15, wspace=0.05)\n",
    "fig, (ax1, ax2) = plt.subplots(1, 2, sharey=True, figsize=(6, 3))\n",
    "\n",
    "# Left plot: separability vs taxonomic distance\n",
    "distance = \"taxo\"\n",
    "distances = {\"mixed\": \"Mixed \", \"taxo\": \"Taxonomic \", \"geom\": \"Geometric \", \"euc\": \"Lexical \", \"cos\": \"Lexical \", \"neuc\": \"Lexical \"}\n",
    "\n",
    "for distance, ax in zip([\"taxo\", \"euc\"], [ax1, ax2]):\n",
    "    for s, model in zip(style, MODELS):\n",
    "        df = load_df(model)\n",
    "        \n",
    "        x, ys = aggregate(df[distance], df.f1, 8, func=mean_confidence_interval)\n",
    "        y, err = zip(*ys)\n",
    "        ax.plot(x, y, label=model, **s)\n",
    "\n",
    "    ax.set(\n",
    "        xlabel=f\"{distances[distance]} Distance\",\n",
    "        #ylabel=\"Separability\"\n",
    "    )\n",
    "\n",
    "ax1.set(ylabel=\"Separability\")\n",
    "ax2.legend()\n",
    "\n",
    "SAVE = False\n",
    "RESNAME = \"results/separability/sep_dist\"\n",
    "FORMATS = [\"png\", \"pdf\", \"eps\"]\n",
    "\n",
    "if SAVE:\n",
    "    for fmt in FORMATS:\n",
    "        plt.savefig(RESNAME + \".\" + fmt, format=fmt)\n",
    "plt.show()"
   ]
  },
  {
   "cell_type": "code",
   "execution_count": 5,
   "metadata": {},
   "outputs": [],
   "source": [
    "datatable = {}\n",
    "col = \"hsize\"\n",
    "for m in MODELS:\n",
    "    df = load_df(m)\n",
    "    df[\"hsize\"] = df[[\"ca\", \"cb\"]].apply(stats.hmean, axis=1)\n",
    "    df[\"gsize\"] = df[[\"ca\", \"cb\"]].apply(stats.gmean, axis=1)\n",
    "    steps = np.logspace(np.log10(df[col].min()-1), np.log10(df[col].max()+1), 10)\n",
    "    x, y = aggregate(df[col], df.f1, steps)\n",
    "    datatable[m] = (x, y)  "
   ]
  },
  {
   "cell_type": "code",
   "execution_count": 7,
   "metadata": {},
   "outputs": [],
   "source": [
    "plt.figure(figsize=(6, 3))\n",
    "plt.tight_layout()\n",
    "plt.subplots_adjust(bottom=0.15, top=0.95)\n",
    "\n",
    "m1 = datatable[\"TransE\"][0][-1]\n",
    "\n",
    "for s, (m, (x, y)) in zip(style, datatable.items()):\n",
    "    if m == \"ComplEx\":\n",
    "        x[-1] = m1\n",
    "    plt.plot(x, y, label=m, **s)\n",
    "    \n",
    "plt.xscale(\"log\")\n",
    "plt.xlabel(\"Mean class size\")\n",
    "plt.ylabel(\"Separability\")\n",
    "plt.legend()\n",
    "\n",
    "\n",
    "SAVE = False\n",
    "RESNAME = \"results/separability/sep_size\"\n",
    "FORMATS = [\"png\", \"pdf\", \"eps\"]\n",
    "\n",
    "if SAVE:\n",
    "    for fmt in FORMATS:\n",
    "        plt.savefig(RESNAME + \".\" + fmt, format=fmt)\n",
    "plt.show()"
   ]
  }
 ],
 "metadata": {
  "kernelspec": {
   "display_name": "Python 3",
   "language": "python",
   "name": "python3"
  },
  "language_info": {
   "codemirror_mode": {
    "name": "ipython",
    "version": 3
   },
   "file_extension": ".py",
   "mimetype": "text/x-python",
   "name": "python",
   "nbconvert_exporter": "python",
   "pygments_lexer": "ipython3",
   "version": "3.6.5"
  }
 },
 "nbformat": 4,
 "nbformat_minor": 2
}
