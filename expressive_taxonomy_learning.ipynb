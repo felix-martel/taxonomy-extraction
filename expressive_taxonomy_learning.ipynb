{
 "cells": [
  {
   "cell_type": "code",
   "execution_count": 1,
   "metadata": {
    "code_folding": [
     3,
     33
    ]
   },
   "outputs": [],
   "source": [
    "import datetime as dt\n",
    "from libs.utils.params import Params\n",
    "\n",
    "params = Params(\n",
    "    size=1000,\n",
    "    # Random state\n",
    "    seed=None,\n",
    "    # Thresholds\n",
    "    threshold=Params(\n",
    "        adaptative=True,\n",
    "        opt=0.9,\n",
    "        initial=0.9,\n",
    "        min=0.6,\n",
    "        step=0.05,\n",
    "        expressive=0.5,\n",
    "        current=0.9,\n",
    "    ),\n",
    "    max_depth=4,\n",
    "    max_depth_step=0,\n",
    "    patterns=Params(\n",
    "        individuals=True,\n",
    "        existential=True,\n",
    "    ),\n",
    "    embeddings=\"toy\",\n",
    "    clustering=Params(\n",
    "        affinity=\"euclidean\",\n",
    "        linkage=\"ward\",\n",
    "    ),\n",
    "    metric=\"harmonic\",\n",
    "    max_axioms=2,\n",
    "    min_gain=0.08,\n",
    "    allow_child=False,\n",
    "    sort_axioms=False,\n",
    "    others=Params(\n",
    "        keep=True,\n",
    "        n=8, # Max number of candidates to keep\n",
    "        threshold=0.9, # % of the optimal score\n",
    "    ),\n",
    "    halting=Params(\n",
    "        min_size=30,\n",
    "        max_rec_steps=40,\n",
    "        max_clustering_steps=100,\n",
    "        max_extracted_depth=15,\n",
    "        memory_limit=110*1024**2 # gigabytes\n",
    "    ),\n",
    "    extra=Params(\n",
    "        active=True,\n",
    "        n=100,\n",
    "        reset_classes=True,\n",
    "        depth=20,\n",
    "        threshold=0.15\n",
    "    ),\n",
    "    record=Params(\n",
    "        save_taxonomy=True,\n",
    "        checkpoints=True,\n",
    "        checkpoint_every=100,\n",
    "        dirname=\"results/taxonomy/auto\",\n",
    "        name_pattern=\"taxonomy_{halting.max_clustering_steps}s_{timestamp:%m%d_%Hh%M}\"\n",
    "    ),\n",
    "    display=True\n",
    ")\n",
    "#params.record.taxname = params.record.name_pattern.format(**params)\n",
    "\n",
    "from libs.expressive import BASE_PARAMS as params\n",
    "\n",
    "params.save(\"test.json\")"
   ]
  },
  {
   "cell_type": "code",
   "execution_count": 1,
   "metadata": {},
   "outputs": [
    {
     "name": "stderr",
     "output_type": "stream",
     "text": [
      "Triples: 100%|█████████████████████████████████████████████████████████████| 316114/316114 [00:02<00:00, 105589.71it/s]\n"
     ]
    }
   ],
   "source": [
    "from libs.graph import KnowledgeGraph\n",
    "\n",
    "kg = KnowledgeGraph.from_dir(\"toy\")"
   ]
  },
  {
   "cell_type": "code",
   "execution_count": 2,
   "metadata": {},
   "outputs": [],
   "source": [
    "kg.to_dir(\"data/graph/toy2\")"
   ]
  },
  {
   "cell_type": "code",
   "execution_count": 38,
   "metadata": {
    "scrolled": false
   },
   "outputs": [
    {
     "name": "stdout",
     "output_type": "stream",
     "text": [
      "Directory 'results/taxonomy/auto\\taxonomy_100s_0917_14h00' already exists.\n",
      "Override ? y/[n]y\n",
      "14:00:15 - INFO : Initialisation done.\n",
      "14:00:15 - INFO : Initialisation done.\n",
      "14:00:15 - INFO : STEP 0: starting with axiom ⊤\n",
      "14:00:15 - INFO : STEP 0: starting with axiom ⊤\n",
      "14:00:16 - INFO : Subclasses found: ∃foaf:givenName.{<LABEL:en>}, ∃dbo:isPartOf.dbo:Settlement\n",
      "14:00:16 - INFO : Subclasses found: ∃foaf:givenName.{<LABEL:en>}, ∃dbo:isPartOf.dbo:Settlement\n",
      "14:00:16 - INFO : STEP 1: starting with axiom ∃foaf:givenName.{<LABEL:en>}\n",
      "14:00:16 - INFO : STEP 1: starting with axiom ∃foaf:givenName.{<LABEL:en>}\n",
      "14:00:16 - INFO : STEP 1: starting with axiom ∃dbo:isPartOf.dbo:Settlement\n",
      "14:00:16 - INFO : STEP 1: starting with axiom ∃dbo:isPartOf.dbo:Settlement\n",
      "14:00:17 - INFO : Subclasses found: ∃dbo:country.{dbr:Iran}, ∃dbo:type.{dbr:Village}\n",
      "14:00:17 - INFO : Subclasses found: ∃dbo:country.{dbr:Iran}, ∃dbo:type.{dbr:Village}\n",
      "14:00:17 - INFO : STEP 2: starting with axiom ∃dbo:country.{dbr:Iran}\n",
      "14:00:17 - INFO : STEP 2: starting with axiom ∃dbo:country.{dbr:Iran}\n",
      "14:00:17 - INFO : STEP 2: starting with axiom ∃dbo:type.{dbr:Village}\n",
      "14:00:17 - INFO : STEP 2: starting with axiom ∃dbo:type.{dbr:Village}\n",
      "14:00:18 - INFO : STEP 2: starting with axiom *(⊤∧∃dbo:isPartOf.dbo:Settlement)\n",
      "14:00:18 - INFO : STEP 2: starting with axiom *(⊤∧∃dbo:isPartOf.dbo:Settlement)\n",
      "14:00:19 - INFO : Subclasses found: ∃dbo:areaTotal.{xsd:double}, ∃dbo:isPartOf.dbo:Location\n",
      "14:00:19 - INFO : Subclasses found: ∃dbo:areaTotal.{xsd:double}, ∃dbo:isPartOf.dbo:Location\n",
      "14:00:19 - INFO : STEP 3: starting with axiom *(⊤)\n",
      "14:00:19 - INFO : STEP 3: starting with axiom *(⊤)\n",
      "14:00:21 - INFO : Subclasses found: ∃foaf:surname.{<LABEL:en>}, ∃dbo:location.dbo:Settlement\n",
      "14:00:21 - INFO : Subclasses found: ∃foaf:surname.{<LABEL:en>}, ∃dbo:location.dbo:Settlement\n",
      "14:00:21 - INFO : STEP 4: starting with axiom ∃dbo:areaTotal.{xsd:double}\n",
      "14:00:21 - INFO : STEP 4: starting with axiom ∃dbo:areaTotal.{xsd:double}\n",
      "14:00:21 - INFO : STEP 4: starting with axiom ∃dbo:isPartOf.dbo:Location\n",
      "14:00:21 - INFO : STEP 4: starting with axiom ∃dbo:isPartOf.dbo:Location\n",
      "14:00:22 - INFO : Subclasses found: ∃dbo:timeZone.{dbr:Iran_Standard_Time}, ∃dbo:isPartOf.dbo:Place\n",
      "14:00:22 - INFO : Subclasses found: ∃dbo:timeZone.{dbr:Iran_Standard_Time}, ∃dbo:isPartOf.dbo:Place\n",
      "14:00:22 - INFO : STEP 5: starting with axiom ∃foaf:surname.{<LABEL:en>}\n",
      "14:00:22 - INFO : STEP 5: starting with axiom ∃foaf:surname.{<LABEL:en>}\n",
      "  ┌∃foaf:givenName.{<LABEL:en>}\n",
      "  ├∃foaf:surname.{<LABEL:en>}\n",
      "  ├∃dbo:location.dbo:Settlement\n",
      " ⊤┤\n",
      "  │                            ┌∃dbo:country.{dbr:Iran}\n",
      "  │                            ├∃dbo:type.{dbr:Village}\n",
      "  │                            ├∃dbo:areaTotal.{xsd:double}\n",
      "  └∃dbo:isPartOf.dbo:Settlement┤\n",
      "                               │                          ┌∃dbo:timeZone.{dbr:Iran_Standard_Time}\n",
      "                               └∃dbo:isPartOf.dbo:Location┤\n",
      "                                                          └∃dbo:isPartOf.dbo:Place\n"
     ]
    }
   ],
   "source": [
    "%autoreload\n",
    "\n",
    "import libs.expressive.extractor as exp\n",
    "from importlib import reload\n",
    "import libs.sampling as lsamp\n",
    "from libs.axiom import Existential, Concept\n",
    "\n",
    "reload(lsamp)\n",
    "reload(exp)\n",
    "\n",
    "\n",
    "relevant_ids = {h for h, rs in kg._h.items() if len(rs) > 3}\n",
    "sampler = lsamp.NaiveGraphSampler(kg, relevant_ids)\n",
    "\n",
    "# Run 10 clustering steps\n",
    "extr = exp.ExpressiveExtractor(kg, params, sampler=sampler, verbose=\"INFO\")\n",
    "extr.init()\n",
    "extr.run(10)\n",
    "\n",
    "# Print the resulting taxonomy\n",
    "T = extr.get_taxonomy()\n",
    "T.print()"
   ]
  },
  {
   "cell_type": "code",
   "execution_count": 33,
   "metadata": {},
   "outputs": [
    {
     "name": "stdout",
     "output_type": "stream",
     "text": [
      "dbo:PopulatedPlace {<STRING>} ∃dbo:postalCode.{<STRING>} ∃dbo:country.dbo:PopulatedPlace *(⊤∧dbo:PopulatedPlace) ⊤\n",
      "Instances found:\n",
      " - 12541 for axiom dbo:PopulatedPlace\n",
      " - 0 for axiom {<STRING>}\n",
      " - 0 for axiom ∃dbo:postalCode.{<STRING>}\n",
      " - 5028 for axiom ∃dbo:country.dbo:PopulatedPlace\n",
      " - 12541 for axiom *(⊤∧dbo:PopulatedPlace)\n",
      " - 47694 for axiom ⊤\n"
     ]
    }
   ],
   "source": [
    "%autoreload\n",
    "from libs.axiom import Existential, Concept, RemainderAxiom, REM, TopAxiom\n",
    "from libs.sampling import NaiveGraphSampler\n",
    "\n",
    "a = Concept(\"dbo:PopulatedPlace\")\n",
    "b = Concept(singleton=\"<STRING>\")\n",
    "c = Existential(\"dbo:postalCode\", b)\n",
    "d = Existential(\"dbo:country\", a)\n",
    "e = RemainderAxiom(TopAxiom & a, c)\n",
    "\n",
    "axioms = [a, b, c, d, e, TopAxiom]\n",
    "\n",
    "print(*axioms)\n",
    "\n",
    "sampler = NaiveGraphSampler(kg)\n",
    "print(\"Instances found:\")\n",
    "for axiom in axioms:\n",
    "    i, n = sampler.sample(axiom, 10)\n",
    "    print(f\" - {n} for axiom {axiom}\")"
   ]
  },
  {
   "cell_type": "code",
   "execution_count": 32,
   "metadata": {},
   "outputs": [],
   "source": [
    "f =  TopAxiom & a"
   ]
  },
  {
   "cell_type": "markdown",
   "metadata": {},
   "source": [
    "**Sampling Examples**\n",
    "\n",
    "For now, `GraphSampler` is not working properly so we use `NaiveGraphSampler`. In production, `NaiveGraphSampler` should not be used since it performs a full scan of the knowledge graph and thus is inefficient for real-world, large-scale graphs."
   ]
  },
  {
   "cell_type": "code",
   "execution_count": 8,
   "metadata": {},
   "outputs": [
    {
     "name": "stdout",
     "output_type": "stream",
     "text": [
      "∃dbo:nationality.{dbr:Japan}∧dbo:Agent\n"
     ]
    },
    {
     "data": {
      "text/plain": [
       "['dbr:Yasunori_Nomura',\n",
       " 'dbr:Kagami_Yoshimizu',\n",
       " 'dbr:Tateo_Ozaki',\n",
       " 'dbr:Hikari_Okubo',\n",
       " 'dbr:Nabi_Tajima',\n",
       " 'dbr:Saeko_Kimura',\n",
       " 'dbr:Masahiko_Amakasu']"
      ]
     },
     "execution_count": 8,
     "metadata": {},
     "output_type": "execute_result"
    }
   ],
   "source": [
    "import libs.sampling as lsamp\n",
    "from importlib import reload\n",
    "reload(lsamp)\n",
    "from libs.axiom import Existential, Concept\n",
    "\n",
    "# An example of complex axiom (arity 3)\n",
    "axiom = Existential(\"dbo:nationality\", Concept(singleton=\"dbr:Japan\")) & Concept(\"dbo:Agent\")\n",
    "print(axiom)\n",
    "\n",
    "# Only consider entities involved in 4+ relations\n",
    "relevant_ids = {h for h, rs in kg._h.items() if len(rs) > 3}\n",
    "sampler = lsamp.NaiveGraphSampler(kg, relevant_ids)\n",
    "\n",
    "# Sample 10 entities from this axiom\n",
    "instances, size = sampler.sample(axiom, 10)\n",
    "kg.ent.to_uris(*instances)"
   ]
  },
  {
   "cell_type": "markdown",
   "metadata": {},
   "source": [
    "**Axiom Inducer Module**\n",
    "\n",
    "This is a demo of the class `libs.axiom_extraction.Inducer`. For inducing axioms, we need a set of positive examples $E^+$,  a set of negative examples $E^-$ and a threshold $\\delta \\in [0, 1]$. In this demo, $E^+$ is a random subset of class `dbo:Athlete`, $E^-$ is a random subset of class `dbo:City`, and $\\delta=0.85$.\n",
    "\n",
    "The algorithm outputs a list of axioms that have a partition score higher than $\\delta$."
   ]
  },
  {
   "cell_type": "code",
   "execution_count": 7,
   "metadata": {},
   "outputs": [
    {
     "name": "stdout",
     "output_type": "stream",
     "text": [
      "Inducer(entities=10, axioms=125)\n",
      "Finding axioms\n",
      "\n",
      "Step 0/3: 1 axioms to improve\n",
      "Improving __empty__...\n",
      "Coverage too low (0.00<0.85). Adding OR clauses...\n",
      "Specificity too low (0.00<0.85). Adding AND clauses...\n",
      "...250 results found\n",
      "\n",
      "Step 1/3: 5 axioms to improve\n",
      "Improving ∃dbo:isPartOf.dbo:AdministrativeRegion...\n",
      "Coverage too low (0.40<0.85). Adding OR clauses...\n",
      "...124 results found\n",
      "Improving ∃dbo:isPartOf.{dbr:Una_district}...\n",
      "Coverage too low (0.20<0.85). Adding OR clauses...\n",
      "...124 results found\n",
      "Improving ∃dbo:part.{dbr:Human_settlement}...\n",
      "Coverage too low (0.20<0.85). Adding OR clauses...\n",
      "...124 results found\n",
      "Improving ∃dbo:position.{dbr:Attacking_Midfielder}...\n",
      "Coverage too low (0.00<0.85). Adding OR clauses...\n",
      "Specificity too low (0.80<0.85). Adding AND clauses...\n",
      "...248 results found\n",
      "Improving ∃dbo:nationality.dbo:Place...\n",
      "Coverage too low (0.00<0.85). Adding OR clauses...\n",
      "Specificity too low (0.60<0.85). Adding AND clauses...\n",
      "...248 results found\n",
      "\n",
      "Step 2/3: 5 axioms to improve\n",
      "Improving ∃dbo:isPartOf.dbo:AdministrativeRegion∨∃dbo:isPartOf.{dbr:Una_district}...\n",
      "Coverage too low (0.60<0.85). Adding OR clauses...\n",
      "...123 results found\n",
      "Improving ∃dbo:isPartOf.dbo:AdministrativeRegion∨∃dbo:part.{dbr:Human_settlement}...\n",
      "Coverage too low (0.60<0.85). Adding OR clauses...\n",
      "...123 results found\n",
      "Improving ∃dbo:isPartOf.{dbr:Una_district}∨∃dbo:isPartOf.dbo:AdministrativeRegion...\n",
      "Coverage too low (0.60<0.85). Adding OR clauses...\n",
      "...123 results found\n",
      "Improving ∃dbo:part.{dbr:Human_settlement}∨∃dbo:isPartOf.dbo:AdministrativeRegion...\n",
      "Coverage too low (0.60<0.85). Adding OR clauses...\n",
      "...123 results found\n",
      "Improving ∃dbo:isPartOf.{dbr:Una_district}∨∃dbo:part.{dbr:Human_settlement}...\n",
      "Coverage too low (0.40<0.85). Adding OR clauses...\n",
      "...123 results found\n"
     ]
    },
    {
     "data": {
      "text/html": [
       "<table><tr><td>axiom</td><td>cov</td><td>spe</td><td>sco</td><td></td></tr><tr><td><b>0</b></td><td></td><td></td><td></td><td></td></tr><tr><td>∃dbo:isPartOf.dbo:AdministrativeRegion</td><td>0.40</td><td>1.00</td><td>0.70</td><td>0</td></tr><tr><td>∃dbo:isPartOf.{dbr:Una_district}</td><td>0.20</td><td>1.00</td><td>0.60</td><td>0</td></tr><tr><td>∃dbo:part.{dbr:Human_settlement}</td><td>0.20</td><td>1.00</td><td>0.60</td><td>0</td></tr><tr><td>∃dbo:position.{dbr:Attacking_Midfielder}</td><td>0.00</td><td>0.80</td><td>0.40</td><td>0</td></tr><tr><td>∃dbo:nationality.dbo:Place</td><td>0.00</td><td>0.60</td><td>0.30</td><td>0</td></tr><tr><td><b>1</b></td><td></td><td></td><td></td><td></td></tr><tr><td>∃dbo:isPartOf.dbo:AdministrativeRegion∨∃dbo:isPartOf.{dbr:Una_district}</td><td>0.60</td><td>1.00</td><td>0.80</td><td>1</td></tr><tr><td>∃dbo:isPartOf.dbo:AdministrativeRegion∨∃dbo:part.{dbr:Human_settlement}</td><td>0.60</td><td>1.00</td><td>0.80</td><td>1</td></tr><tr><td>∃dbo:isPartOf.{dbr:Una_district}∨∃dbo:isPartOf.dbo:AdministrativeRegion</td><td>0.60</td><td>1.00</td><td>0.80</td><td>1</td></tr><tr><td>∃dbo:part.{dbr:Human_settlement}∨∃dbo:isPartOf.dbo:AdministrativeRegion</td><td>0.60</td><td>1.00</td><td>0.80</td><td>1</td></tr><tr><td>∃dbo:isPartOf.{dbr:Una_district}∨∃dbo:part.{dbr:Human_settlement}</td><td>0.40</td><td>1.00</td><td>0.70</td><td>1</td></tr><tr><td><b>2</b></td><td></td><td></td><td></td><td></td></tr><tr><td>∃dbo:isPartOf.dbo:AdministrativeRegion∨∃dbo:isPartOf.{dbr:Una_district}∨∃dbo:isPartOf.dbo:PopulatedPlace</td><td>1.00</td><td>1.00</td><td>1.00</td><td>2</td></tr><tr><td>∃dbo:isPartOf.dbo:AdministrativeRegion∨∃dbo:part.{dbr:Human_settlement}∨∃dbo:isPartOf.dbo:PopulatedPlace</td><td>1.00</td><td>1.00</td><td>1.00</td><td>2</td></tr><tr><td>∃dbo:isPartOf.{dbr:Una_district}∨∃dbo:isPartOf.dbo:AdministrativeRegion∨∃dbo:isPartOf.dbo:PopulatedPlace</td><td>1.00</td><td>1.00</td><td>1.00</td><td>2</td></tr><tr><td>∃dbo:part.{dbr:Human_settlement}∨∃dbo:isPartOf.dbo:AdministrativeRegion∨∃dbo:isPartOf.dbo:PopulatedPlace</td><td>1.00</td><td>1.00</td><td>1.00</td><td>2</td></tr><tr><td>∃dbo:isPartOf.{dbr:Una_district}∨∃dbo:part.{dbr:Human_settlement}∨∃dbo:isPartOf.dbo:PopulatedPlace</td><td>1.00</td><td>1.00</td><td>1.00</td><td>2</td></tr></table>"
      ],
      "text/plain": [
       "<IPython.core.display.HTML object>"
      ]
     },
     "metadata": {},
     "output_type": "display_data"
    }
   ],
   "source": [
    "import libs.axiom_extraction as lae\n",
    "from importlib import reload\n",
    "import random\n",
    "lae = reload(lae)\n",
    "\n",
    "\n",
    "size = 5\n",
    "delta = 0.85\n",
    "\n",
    "samples = []\n",
    "for cls in (\"dbo:Athlete\", \"dbo:City\"):\n",
    "    clsid = graph.ent.to_id(cls)\n",
    "    instances = [x for x in relevant_ids if (x, kg.isaid, clsid) in kg]\n",
    "    if verbose and size > len(instances):\n",
    "        print(f\"WARNING: Can't sample {size} items out of {len(instances)} instances of class {cls}\")\n",
    "    size = min(size, len(instances))\n",
    "\n",
    "    samples.append(random.sample(instances, size))\n",
    "\n",
    "E_pos, E_neg = samples\n",
    "ind = lae.Inducer(E_pos, E_neg, kg, threshold=0.0, verbose=True)\n",
    "\n",
    "print(ind)\n",
    "res = ind.find(allow_neg=False, threshold=delta)\n",
    "res"
   ]
  }
 ],
 "metadata": {
  "kernelspec": {
   "display_name": "Python 3",
   "language": "python",
   "name": "python3"
  },
  "language_info": {
   "codemirror_mode": {
    "name": "ipython",
    "version": 3
   },
   "file_extension": ".py",
   "mimetype": "text/x-python",
   "name": "python",
   "nbconvert_exporter": "python",
   "pygments_lexer": "ipython3",
   "version": "3.6.5"
  }
 },
 "nbformat": 4,
 "nbformat_minor": 2
}
