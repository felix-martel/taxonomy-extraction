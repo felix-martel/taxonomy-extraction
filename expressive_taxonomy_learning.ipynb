{
 "cells": [
  {
   "cell_type": "code",
   "execution_count": 1,
   "metadata": {
    "code_folding": [
     3,
     14,
     25,
     39
    ]
   },
   "outputs": [],
   "source": [
    "import datetime as dt\n",
    "from libs.utils.params import Params\n",
    "\n",
    "params = Params(\n",
    "    size=Params(\n",
    "        # Sampling sizes\n",
    "        size=1000,\n",
    "        initial=4000,\n",
    "        decrease=0.9,\n",
    "        plateau=600\n",
    "    ),\n",
    "    # Random state\n",
    "    seed=None,\n",
    "    # Thresholds\n",
    "    threshold=Params(\n",
    "        adaptative=True,\n",
    "        opt=0.9,\n",
    "        initial=0.9,\n",
    "        min=0.6,\n",
    "        step=0.05,\n",
    "        expressive=0.5,\n",
    "        current=0.9,\n",
    "    ),\n",
    "    max_depth=4,\n",
    "    max_depth_step=0,\n",
    "    patterns=Params(\n",
    "        individuals=True,\n",
    "        existential=True,\n",
    "    ),\n",
    "    embeddings=\"toy\",\n",
    "    clustering=Params(\n",
    "        affinity=\"euclidean\",\n",
    "        linkage=\"ward\",\n",
    "    ),\n",
    "    metric=\"harmonic\",\n",
    "    max_axioms=2,\n",
    "    min_gain=0.08,\n",
    "    allow_child=False,\n",
    "    sort_axioms=False,\n",
    "    others=Params(\n",
    "        keep=True,\n",
    "        n=8, # Max number of candidates to keep\n",
    "        threshold=0.9, # % of the optimal score\n",
    "    ),\n",
    "    halting=Params(\n",
    "        min_size=30,\n",
    "        max_rec_steps=40,\n",
    "        max_clustering_steps=100,\n",
    "        max_extracted_depth=15,\n",
    "        memory_limit=110*1024**2 # gigabytes\n",
    "    ),\n",
    "    extra=Params(\n",
    "        active=True,\n",
    "        n=100,\n",
    "        reset_classes=True,\n",
    "        depth=20,\n",
    "        threshold=0.15\n",
    "    ),\n",
    "    record=Params(\n",
    "        save_taxonomy=True,\n",
    "        checkpoints=True,\n",
    "        checkpoint_every=100,\n",
    "        dirname=\"results/taxonomy/auto\",\n",
    "        name_pattern=\"taxonomy_{halting.max_clustering_steps}s_{timestamp:%m%d_%Hh%M}\"\n",
    "    ),\n",
    "    display=True\n",
    ")\n",
    "#params.record.taxname = params.record.name_pattern.format(**params)\n",
    "\n",
    "params.save(\"test.json\")"
   ]
  },
  {
   "cell_type": "code",
   "execution_count": 2,
   "metadata": {},
   "outputs": [
    {
     "name": "stderr",
     "output_type": "stream",
     "text": [
      "Triples: 100%|█████████████████████████████████████████████████████████████| 316114/316114 [00:01<00:00, 158467.89it/s]\n"
     ]
    }
   ],
   "source": [
    "from libs.graph import KnowledgeGraph\n",
    "\n",
    "kg = KnowledgeGraph.from_dir(\"toy\")"
   ]
  },
  {
   "cell_type": "code",
   "execution_count": 3,
   "metadata": {},
   "outputs": [
    {
     "data": {
      "text/plain": [
       "(54795, 50)"
      ]
     },
     "execution_count": 3,
     "metadata": {},
     "output_type": "execute_result"
    }
   ],
   "source": [
    "from libs.embeddings import load\n",
    "\n",
    "E = load(\"toy\")\n",
    "\n",
    "E.shape"
   ]
  },
  {
   "cell_type": "code",
   "execution_count": 15,
   "metadata": {},
   "outputs": [],
   "source": [
    "ca, cb = \"dbo:TennisPlayer\", \"dbo:Organisation\"\n",
    "\n",
    "B = [h for h, _, _ in kg.find_triples(r=kg.isaid, t=kg.ent.to_id(ca), max_results=100)]\n",
    "A = [h for h, _, _ in kg.find_triples(r=kg.isaid, t=kg.ent.to_id(cb), max_results=100)]"
   ]
  },
  {
   "cell_type": "code",
   "execution_count": 17,
   "metadata": {},
   "outputs": [
    {
     "name": "stdout",
     "output_type": "stream",
     "text": [
      "Inducer(entities=200, axioms=2062)\n",
      "Finding axioms\n",
      "\n",
      "Step 0/3: 1 axioms to improve\n",
      "Improving __empty__...\n",
      "Coverage too low (0.00<0.85). Adding OR clauses...\n",
      "Specificity too low (0.00<0.85). Adding AND clauses...\n",
      "...8248 results found\n",
      "\n",
      "Step 1/3: 2 axioms to improve\n",
      "Improving ¬∃dbo:broadcastNetwork.dbo:Organisation...\n",
      "...0 results found\n",
      "Improving ¬∃dbo:broadcastNetwork.dbo:Organisation...\n",
      "...0 results found\n"
     ]
    },
    {
     "data": {
      "text/html": [
       "<table><tr><td>axiom</td><td>cov</td><td>spe</td><td>sco</td><td></td></tr><tr><td><b>0</b></td><td></td><td></td><td></td><td></td></tr><tr><td>¬∃dbo:broadcastNetwork.dbo:Organisation</td><td>1.00</td><td>0.99</td><td>0.99</td><td>0</td></tr><tr><td>¬∃dbo:broadcastNetwork.dbo:Organisation</td><td>1.00</td><td>0.99</td><td>0.99</td><td>0</td></tr></table>"
      ],
      "text/plain": [
       "<IPython.core.display.HTML object>"
      ]
     },
     "metadata": {},
     "output_type": "display_data"
    }
   ],
   "source": [
    "import libs.axiom_extraction as lae\n",
    "from importlib import reload\n",
    "\n",
    "lae = reload(lae)\n",
    "\n",
    "ind = lae.Inducer(B, A, kg, threshold=0)\n",
    "\n",
    "print(ind)\n",
    "\n",
    "res = ind.find(allow_neg=True)\n",
    "res"
   ]
  },
  {
   "cell_type": "code",
   "execution_count": 6,
   "metadata": {},
   "outputs": [
    {
     "name": "stdout",
     "output_type": "stream",
     "text": [
      "Help on method find in module libs.axiom_extraction.inducer:\n",
      "\n",
      "find(max_axioms=3, min_gain=0.05, keep_n=5, forbidden=None, **kwargs) method of libs.axiom_extraction.inducer.Inducer instance\n",
      "\n"
     ]
    }
   ],
   "source": [
    "help(ind.find)"
   ]
  },
  {
   "cell_type": "code",
   "execution_count": 9,
   "metadata": {},
   "outputs": [
    {
     "data": {
      "text/html": [
       "<table><tr><td>axiom</td><td>cov</td><td>spe</td><td>sco</td></tr></table>"
      ],
      "text/plain": [
       "<IPython.core.display.HTML object>"
      ]
     },
     "metadata": {},
     "output_type": "display_data"
    }
   ],
   "source": [
    "res"
   ]
  }
 ],
 "metadata": {
  "kernelspec": {
   "display_name": "Python 3",
   "language": "python",
   "name": "python3"
  },
  "language_info": {
   "codemirror_mode": {
    "name": "ipython",
    "version": 3
   },
   "file_extension": ".py",
   "mimetype": "text/x-python",
   "name": "python",
   "nbconvert_exporter": "python",
   "pygments_lexer": "ipython3",
   "version": "3.6.5"
  }
 },
 "nbformat": 4,
 "nbformat_minor": 2
}
